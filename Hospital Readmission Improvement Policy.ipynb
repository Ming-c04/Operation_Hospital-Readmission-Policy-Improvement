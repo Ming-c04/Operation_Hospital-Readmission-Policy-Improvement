{
 "cells": [
  {
   "cell_type": "code",
   "execution_count": 2,
   "metadata": {},
   "outputs": [
    {
     "data": {
      "text/html": [
       "<div>\n",
       "<style scoped>\n",
       "    .dataframe tbody tr th:only-of-type {\n",
       "        vertical-align: middle;\n",
       "    }\n",
       "\n",
       "    .dataframe tbody tr th {\n",
       "        vertical-align: top;\n",
       "    }\n",
       "\n",
       "    .dataframe thead th {\n",
       "        text-align: right;\n",
       "    }\n",
       "</style>\n",
       "<table border=\"1\" class=\"dataframe\">\n",
       "  <thead>\n",
       "    <tr style=\"text-align: right;\">\n",
       "      <th></th>\n",
       "      <th>HospitalID</th>\n",
       "      <th>MedicareFr</th>\n",
       "      <th>RPR</th>\n",
       "      <th>RER</th>\n",
       "      <th>ERR</th>\n",
       "      <th>excess</th>\n",
       "      <th>penalty</th>\n",
       "      <th>payment</th>\n",
       "      <th>ERevenue</th>\n",
       "      <th>Revenue</th>\n",
       "    </tr>\n",
       "    <tr>\n",
       "      <th>County</th>\n",
       "      <th></th>\n",
       "      <th></th>\n",
       "      <th></th>\n",
       "      <th></th>\n",
       "      <th></th>\n",
       "      <th></th>\n",
       "      <th></th>\n",
       "      <th></th>\n",
       "      <th></th>\n",
       "      <th></th>\n",
       "    </tr>\n",
       "  </thead>\n",
       "  <tbody>\n",
       "  </tbody>\n",
       "</table>\n",
       "</div>"
      ],
      "text/plain": [
       "Empty DataFrame\n",
       "Columns: [HospitalID, MedicareFr, RPR, RER, ERR, excess, penalty, payment, ERevenue, Revenue]\n",
       "Index: []"
      ]
     },
     "execution_count": 2,
     "metadata": {},
     "output_type": "execute_result"
    }
   ],
   "source": [
    "import pandas as pd\n",
    "import csv\n",
    "\n",
    "frame = pd.read_csv(\"../data/data.csv\",index_col=0)\n",
    "\n",
    "\n",
    "# Excess Readmission Ratio\n",
    "frame[\"ERR\"]=frame[\"RPR\"]/frame[\"RER\"]\n",
    "\n",
    "# excessiveness\n",
    "frame[\"zero\"]=0\n",
    "frame[\"sub\"]=frame[\"ERR\"]-1\n",
    "frame[\"excess\"]=frame[[\"zero\",\"sub\"]].max(axis=1)\n",
    "\n",
    "# penalty\n",
    "frame[\"product\"]=frame[\"excess\"]*frame[\"MedicareFr\"]\n",
    "frame[\"cap\"]=0.03\n",
    "frame[\"penalty\"]=frame[[\"product\",\"cap\"]].min(axis=1)\n",
    "\n",
    "# payment\n",
    "frame[\"payment\"]=1-frame[\"penalty\"]\n",
    "\n",
    "# Revenue at RER\n",
    "frame[\"ERevenue\"]=1*(1/(1-frame[\"RER\"]/100))\n",
    "\n",
    "# Revenue at RPR\n",
    "frame[\"Revenue\"]=frame[\"payment\"]*(1/(1-frame[\"RPR\"]/100))\n",
    "\n",
    "\n",
    "\n",
    "frame=frame.drop(['zero', 'sub' , 'product' , 'cap'], axis=1)\n",
    "\n",
    "frame.head(0)"
   ]
  },
  {
   "cell_type": "code",
   "execution_count": 4,
   "metadata": {},
   "outputs": [],
   "source": [
    "import matplotlib.pyplot as plt\n",
    "import numpy as np\n",
    "from sympy import *\n",
    "\n",
    "def hospital(n):\n",
    "    \n",
    "    y_lower=frame[\"ERevenue\"][n]-0.1\n",
    "    y_mid=frame[\"ERevenue\"][n]\n",
    "    y_upper=frame[\"ERevenue\"][n]+0.1\n",
    "    \n",
    "    rer=frame[\"RER\"][n]/100\n",
    "    arr_x1=[rer,rer,rer]\n",
    "    arr_y1=[y_lower,y_mid,y_upper]\n",
    "    \n",
    "    x2=Symbol('x')\n",
    "    x2=solve((0.97*frame[\"MedicareFr\"][n]+(1-frame[\"MedicareFr\"][n]))*(1/(1-x2))-frame[\"ERevenue\"][n])[0]\n",
    "\n",
    "    \n",
    "    arr_x2=[x2,x2,x2]\n",
    "    arr_y2=[y_lower,y_mid,y_upper]\n",
    "    \n",
    "    \n",
    "    x =np.arange(rer-0.1,x2+0.1,0.001)\n",
    "    y=[]\n",
    "    flag=0\n",
    "    yii=0\n",
    "    for xi in x:\n",
    "        if xi<frame[\"RER\"][n]/100:\n",
    "            yi=1*(1/(1-xi))\n",
    "        else:\n",
    "            err=xi/(frame[\"RER\"][n]/100)-1\n",
    "            penalty=err*frame[\"MedicareFr\"][n]\n",
    "            if penalty<=0.03*frame[\"MedicareFr\"][n]:\n",
    "                payment=1-penalty\n",
    "                yi=payment*(1/(1-xi))\n",
    "            else:\n",
    "                penalty=0.03*frame[\"MedicareFr\"][n]\n",
    "                payment=1-penalty\n",
    "                yi=payment*(1/(1-xi))\n",
    "        y.append(yi)\n",
    "\n",
    "        while yi<yii:\n",
    "            flag=1\n",
    "            break\n",
    "        yii=yi\n",
    "    \n",
    "    plt.plot(x,y,color=\"blue\")\n",
    "    \n",
    "    plt.plot(arr_x1,arr_y1,color=\"red\")\n",
    "\n",
    "    print(frame[\"RPR\"][n]/100)\n",
    "    print([rer,x2])\n",
    "    \n",
    "\n",
    "    \n",
    "    if flag==0:\n",
    "        print(\"decision:no\")\n",
    "    else:\n",
    "        plt.plot(arr_x2,arr_y2,color=\"green\")\n",
    "        if frame[\"RPR\"][n]/100>=x2:\n",
    "            print(\"decision:no\")\n",
    "        elif frame[\"RPR\"][n]/100<=rer:\n",
    "            print('decision:no')\n",
    "        else:\n",
    "            print(\"decision:yes\")\n",
    "    \n",
    "\n",
    "    \n",
    "    plt.show()\n",
    "    "
   ]
  },
  {
   "cell_type": "code",
   "execution_count": 5,
   "metadata": {},
   "outputs": [
    {
     "name": "stdout",
     "output_type": "stream",
     "text": [
      "0.2591125488\n",
      "[0.2393809509, 0.253097519901891]\n",
      "decision:no\n"
     ]
    },
    {
     "data": {
      "image/png": "[encoded data removed]",
      "text/plain": [
       "<Figure size 432x288 with 1 Axes>"
      ]
     },
     "metadata": {
      "needs_background": "light"
     },
     "output_type": "display_data"
    }
   ],
   "source": [
    "# 50158\n",
    "\n",
    "hospital(58)"
   ]
  },
  {
   "cell_type": "code",
   "execution_count": 34,
   "metadata": {
    "scrolled": true
   },
   "outputs": [
    {
     "name": "stdout",
     "output_type": "stream",
     "text": [
      "0.2169606209\n",
      "[0.2101259804, 0.233822200987998]\n",
      "decision:no\n"
     ]
    },
    {
     "data": {
      "image/png": "[encoded data removed]",
      "text/plain": [
       "<Figure size 432x288 with 1 Axes>"
      ]
     },
     "metadata": {
      "needs_background": "light"
     },
     "output_type": "display_data"
    }
   ],
   "source": [
    "# 50245\n",
    "\n",
    "hospital(84)"
   ]
  },
  {
   "cell_type": "code",
   "execution_count": 4,
   "metadata": {},
   "outputs": [
    {
     "name": "stdout",
     "output_type": "stream",
     "text": [
      "0.2035890198\n",
      "[0.1988334465, 0.222868443105001]\n",
      "decision:yes\n"
     ]
    },
    {
     "data": {
      "image/png": "[encoded data removed]",
      "text/plain": [
       "<Figure size 432x288 with 1 Axes>"
      ]
     },
     "metadata": {
      "needs_background": "light"
     },
     "output_type": "display_data"
    }
   ],
   "source": [
    "hospital(15)"
   ]
  },
  {
   "cell_type": "code",
   "execution_count": 5,
   "metadata": {},
   "outputs": [],
   "source": [
    "def hospital1(n):\n",
    "    \n",
    "    rer=frame[\"RER\"][n]/100\n",
    "    \n",
    "    x2=Symbol('x')\n",
    "    x2=solve((0.97*frame[\"MedicareFr\"][n]+(1-frame[\"MedicareFr\"][n]))*(1/(1-x2))-frame[\"ERevenue\"][n])[0]\n",
    "    \n",
    "    x =np.arange(rer-0.01,x2+0.01,0.0001)\n",
    "    y=[]\n",
    "    flag=0\n",
    "    yii=0\n",
    "    for xi in x:\n",
    "        if xi<frame[\"RER\"][n]/100:\n",
    "            yi=1*(1/(1-xi))\n",
    "        else:\n",
    "            err=xi/(frame[\"RER\"][n]/100)-1\n",
    "            penalty=err*frame[\"MedicareFr\"][n]\n",
    "            if penalty<=0.03:\n",
    "                payment=1-penalty\n",
    "                yi=payment*(1/(1-xi))\n",
    "            else:\n",
    "                penalty=0.03\n",
    "                payment=1-penalty\n",
    "                yi=payment*(1/(1-xi))\n",
    "        y.append(yi)\n",
    "\n",
    "        while yi<yii:\n",
    "            flag=1\n",
    "            break\n",
    "        yii=yi\n",
    "    \n",
    "    if flag==0:\n",
    "        frame1[\"Decision\"][n]=\"no\"\n",
    "    else:\n",
    "        if frame[\"RPR\"][n]/100>=x2:\n",
    "            frame1[\"Decision\"][n]=\"no\"\n",
    "        elif frame[\"RPR\"][n]/100<=rer:\n",
    "            frame1[\"Decision\"][n]=\"no\"\n",
    "        else:\n",
    "            frame1[\"Decision\"][n]=\"yes\""
   ]
  },
  {
   "cell_type": "code",
   "execution_count": 7,
   "metadata": {},
   "outputs": [
    {
     "name": "stderr",
     "output_type": "stream",
     "text": [
      "<ipython-input-5-5337b9002c49>:36: SettingWithCopyWarning: \n",
      "A value is trying to be set on a copy of a slice from a DataFrame\n",
      "\n",
      "See the caveats in the documentation: https://pandas.pydata.org/pandas-docs/stable/user_guide/indexing.html#returning-a-view-versus-a-copy\n",
      "  frame1[\"Decision\"][n]=\"no\"\n",
      "<ipython-input-5-5337b9002c49>:38: SettingWithCopyWarning: \n",
      "A value is trying to be set on a copy of a slice from a DataFrame\n",
      "\n",
      "See the caveats in the documentation: https://pandas.pydata.org/pandas-docs/stable/user_guide/indexing.html#returning-a-view-versus-a-copy\n",
      "  frame1[\"Decision\"][n]=\"no\"\n",
      "<ipython-input-5-5337b9002c49>:40: SettingWithCopyWarning: \n",
      "A value is trying to be set on a copy of a slice from a DataFrame\n",
      "\n",
      "See the caveats in the documentation: https://pandas.pydata.org/pandas-docs/stable/user_guide/indexing.html#returning-a-view-versus-a-copy\n",
      "  frame1[\"Decision\"][n]=\"yes\"\n",
      "<ipython-input-5-5337b9002c49>:33: SettingWithCopyWarning: \n",
      "A value is trying to be set on a copy of a slice from a DataFrame\n",
      "\n",
      "See the caveats in the documentation: https://pandas.pydata.org/pandas-docs/stable/user_guide/indexing.html#returning-a-view-versus-a-copy\n",
      "  frame1[\"Decision\"][n]=\"no\"\n"
     ]
    },
    {
     "data": {
      "text/html": [
       "<div>\n",
       "<style scoped>\n",
       "    .dataframe tbody tr th:only-of-type {\n",
       "        vertical-align: middle;\n",
       "    }\n",
       "\n",
       "    .dataframe tbody tr th {\n",
       "        vertical-align: top;\n",
       "    }\n",
       "\n",
       "    .dataframe thead th {\n",
       "        text-align: right;\n",
       "    }\n",
       "</style>\n",
       "<table border=\"1\" class=\"dataframe\">\n",
       "  <thead>\n",
       "    <tr style=\"text-align: right;\">\n",
       "      <th></th>\n",
       "      <th>HospitalID</th>\n",
       "      <th>MedicareFr</th>\n",
       "      <th>RPR</th>\n",
       "      <th>RER</th>\n",
       "      <th>ERR</th>\n",
       "      <th>excess</th>\n",
       "      <th>penalty</th>\n",
       "      <th>payment</th>\n",
       "      <th>ERevenue</th>\n",
       "      <th>Revenue</th>\n",
       "      <th>Decision</th>\n",
       "    </tr>\n",
       "    <tr>\n",
       "      <th>County</th>\n",
       "      <th></th>\n",
       "      <th></th>\n",
       "      <th></th>\n",
       "      <th></th>\n",
       "      <th></th>\n",
       "      <th></th>\n",
       "      <th></th>\n",
       "      <th></th>\n",
       "      <th></th>\n",
       "      <th></th>\n",
       "      <th></th>\n",
       "    </tr>\n",
       "  </thead>\n",
       "  <tbody>\n",
       "    <tr>\n",
       "      <th>Alameda</th>\n",
       "      <td>50002</td>\n",
       "      <td>0.385420</td>\n",
       "      <td>24.126127</td>\n",
       "      <td>22.505701</td>\n",
       "      <td>1.072001</td>\n",
       "      <td>0.072001</td>\n",
       "      <td>0.027750</td>\n",
       "      <td>0.972250</td>\n",
       "      <td>1.290418</td>\n",
       "      <td>1.281402</td>\n",
       "      <td>no</td>\n",
       "    </tr>\n",
       "    <tr>\n",
       "      <th>Humboldt</th>\n",
       "      <td>50006</td>\n",
       "      <td>0.463131</td>\n",
       "      <td>16.193045</td>\n",
       "      <td>19.058270</td>\n",
       "      <td>0.849660</td>\n",
       "      <td>0.000000</td>\n",
       "      <td>0.000000</td>\n",
       "      <td>1.000000</td>\n",
       "      <td>1.235457</td>\n",
       "      <td>1.193218</td>\n",
       "      <td>no</td>\n",
       "    </tr>\n",
       "    <tr>\n",
       "      <th>San Mateo</th>\n",
       "      <td>50007</td>\n",
       "      <td>0.302269</td>\n",
       "      <td>20.862410</td>\n",
       "      <td>20.750566</td>\n",
       "      <td>1.005390</td>\n",
       "      <td>0.005390</td>\n",
       "      <td>0.001629</td>\n",
       "      <td>0.998371</td>\n",
       "      <td>1.261839</td>\n",
       "      <td>1.261563</td>\n",
       "      <td>yes</td>\n",
       "    </tr>\n",
       "    <tr>\n",
       "      <th>Napa</th>\n",
       "      <td>50009</td>\n",
       "      <td>0.430666</td>\n",
       "      <td>20.507330</td>\n",
       "      <td>22.007002</td>\n",
       "      <td>0.931855</td>\n",
       "      <td>0.000000</td>\n",
       "      <td>0.000000</td>\n",
       "      <td>1.000000</td>\n",
       "      <td>1.282166</td>\n",
       "      <td>1.257978</td>\n",
       "      <td>no</td>\n",
       "    </tr>\n",
       "    <tr>\n",
       "      <th>Napa</th>\n",
       "      <td>50013</td>\n",
       "      <td>0.487894</td>\n",
       "      <td>20.139364</td>\n",
       "      <td>21.881418</td>\n",
       "      <td>0.920387</td>\n",
       "      <td>0.000000</td>\n",
       "      <td>0.000000</td>\n",
       "      <td>1.000000</td>\n",
       "      <td>1.280105</td>\n",
       "      <td>1.252181</td>\n",
       "      <td>no</td>\n",
       "    </tr>\n",
       "    <tr>\n",
       "      <th>...</th>\n",
       "      <td>...</td>\n",
       "      <td>...</td>\n",
       "      <td>...</td>\n",
       "      <td>...</td>\n",
       "      <td>...</td>\n",
       "      <td>...</td>\n",
       "      <td>...</td>\n",
       "      <td>...</td>\n",
       "      <td>...</td>\n",
       "      <td>...</td>\n",
       "      <td>...</td>\n",
       "    </tr>\n",
       "    <tr>\n",
       "      <th>Orange</th>\n",
       "      <td>50746</td>\n",
       "      <td>0.150837</td>\n",
       "      <td>20.370153</td>\n",
       "      <td>21.221683</td>\n",
       "      <td>0.959875</td>\n",
       "      <td>0.000000</td>\n",
       "      <td>0.000000</td>\n",
       "      <td>1.000000</td>\n",
       "      <td>1.269385</td>\n",
       "      <td>1.255811</td>\n",
       "      <td>no</td>\n",
       "    </tr>\n",
       "    <tr>\n",
       "      <th>Los Angeles</th>\n",
       "      <td>50752</td>\n",
       "      <td>0.544773</td>\n",
       "      <td>25.725578</td>\n",
       "      <td>24.427887</td>\n",
       "      <td>1.053123</td>\n",
       "      <td>0.053123</td>\n",
       "      <td>0.028940</td>\n",
       "      <td>0.971060</td>\n",
       "      <td>1.323239</td>\n",
       "      <td>1.307395</td>\n",
       "      <td>no</td>\n",
       "    </tr>\n",
       "    <tr>\n",
       "      <th>San Diego</th>\n",
       "      <td>50757</td>\n",
       "      <td>0.458330</td>\n",
       "      <td>20.635431</td>\n",
       "      <td>21.956419</td>\n",
       "      <td>0.939836</td>\n",
       "      <td>0.000000</td>\n",
       "      <td>0.000000</td>\n",
       "      <td>1.000000</td>\n",
       "      <td>1.281335</td>\n",
       "      <td>1.260008</td>\n",
       "      <td>no</td>\n",
       "    </tr>\n",
       "    <tr>\n",
       "      <th>Los Angeles</th>\n",
       "      <td>50761</td>\n",
       "      <td>0.508488</td>\n",
       "      <td>22.451075</td>\n",
       "      <td>22.105062</td>\n",
       "      <td>1.015653</td>\n",
       "      <td>0.015653</td>\n",
       "      <td>0.007959</td>\n",
       "      <td>0.992041</td>\n",
       "      <td>1.283780</td>\n",
       "      <td>1.279245</td>\n",
       "      <td>yes</td>\n",
       "    </tr>\n",
       "    <tr>\n",
       "      <th>Shasta</th>\n",
       "      <td>50764</td>\n",
       "      <td>0.520134</td>\n",
       "      <td>20.108620</td>\n",
       "      <td>21.784416</td>\n",
       "      <td>0.923074</td>\n",
       "      <td>0.000000</td>\n",
       "      <td>0.000000</td>\n",
       "      <td>1.000000</td>\n",
       "      <td>1.278518</td>\n",
       "      <td>1.251699</td>\n",
       "      <td>no</td>\n",
       "    </tr>\n",
       "  </tbody>\n",
       "</table>\n",
       "<p>183 rows × 11 columns</p>\n",
       "</div>"
      ],
      "text/plain": [
       "             HospitalID  MedicareFr        RPR        RER       ERR    excess  \\\n",
       "County                                                                          \n",
       "Alameda           50002    0.385420  24.126127  22.505701  1.072001  0.072001   \n",
       "Humboldt          50006    0.463131  16.193045  19.058270  0.849660  0.000000   \n",
       "San Mateo         50007    0.302269  20.862410  20.750566  1.005390  0.005390   \n",
       "Napa              50009    0.430666  20.507330  22.007002  0.931855  0.000000   \n",
       "Napa              50013    0.487894  20.139364  21.881418  0.920387  0.000000   \n",
       "...                 ...         ...        ...        ...       ...       ...   \n",
       "Orange            50746    0.150837  20.370153  21.221683  0.959875  0.000000   \n",
       "Los Angeles       50752    0.544773  25.725578  24.427887  1.053123  0.053123   \n",
       "San Diego         50757    0.458330  20.635431  21.956419  0.939836  0.000000   \n",
       "Los Angeles       50761    0.508488  22.451075  22.105062  1.015653  0.015653   \n",
       "Shasta            50764    0.520134  20.108620  21.784416  0.923074  0.000000   \n",
       "\n",
       "              penalty   payment  ERevenue   Revenue Decision  \n",
       "County                                                        \n",
       "Alameda      0.027750  0.972250  1.290418  1.281402       no  \n",
       "Humboldt     0.000000  1.000000  1.235457  1.193218       no  \n",
       "San Mateo    0.001629  0.998371  1.261839  1.261563      yes  \n",
       "Napa         0.000000  1.000000  1.282166  1.257978       no  \n",
       "Napa         0.000000  1.000000  1.280105  1.252181       no  \n",
       "...               ...       ...       ...       ...      ...  \n",
       "Orange       0.000000  1.000000  1.269385  1.255811       no  \n",
       "Los Angeles  0.028940  0.971060  1.323239  1.307395       no  \n",
       "San Diego    0.000000  1.000000  1.281335  1.260008       no  \n",
       "Los Angeles  0.007959  0.992041  1.283780  1.279245      yes  \n",
       "Shasta       0.000000  1.000000  1.278518  1.251699       no  \n",
       "\n",
       "[183 rows x 11 columns]"
      ]
     },
     "execution_count": 7,
     "metadata": {},
     "output_type": "execute_result"
    }
   ],
   "source": [
    "frame1=frame.copy()\n",
    "frame1[\"Decision\"]=\"nan\"\n",
    "\n",
    "for n in range(len(frame1)):\n",
    "    hospital1(n)\n",
    "\n",
    "frame1.to_csv(\"../data/data_modified.csv\")\n",
    "frame1"
   ]
  },
  {
   "cell_type": "code",
   "execution_count": 37,
   "metadata": {},
   "outputs": [
    {
     "data": {
      "text/plain": [
       "50327"
      ]
     },
     "execution_count": 37,
     "metadata": {},
     "output_type": "execute_result"
    }
   ],
   "source": [
    "frame[\"HospitalID\"][101]"
   ]
  },
  {
   "cell_type": "code",
   "execution_count": 38,
   "metadata": {},
   "outputs": [
    {
     "name": "stdout",
     "output_type": "stream",
     "text": [
      "0.2289609528\n",
      "[0.22029066090000002, 0.243681941073000]\n",
      "decision:no\n"
     ]
    },
    {
     "data": {
      "image/png": "[encoded data removed]",
      "text/plain": [
       "<Figure size 432x288 with 1 Axes>"
      ]
     },
     "metadata": {
      "needs_background": "light"
     },
     "output_type": "display_data"
    }
   ],
   "source": [
    "hospital(101)"
   ]
  },
  {
   "cell_type": "code",
   "execution_count": 39,
   "metadata": {},
   "outputs": [
    {
     "name": "stdout",
     "output_type": "stream",
     "text": [
      "0.19609874730000001\n",
      "[0.20366527560000003, 0.227555317332003]\n",
      "decision:no\n"
     ]
    },
    {
     "data": {
      "image/png": "[encoded data removed]",
      "text/plain": [
       "<Figure size 432x288 with 1 Axes>"
      ]
     },
     "metadata": {
      "needs_background": "light"
     },
     "output_type": "display_data"
    }
   ],
   "source": [
    "hospital(100)"
   ]
  },
  {
   "cell_type": "code",
   "execution_count": 41,
   "metadata": {},
   "outputs": [
    {
     "name": "stdout",
     "output_type": "stream",
     "text": [
      "0.21565698619999998\n",
      "[0.2104916191, 0.234176870526998]\n",
      "decision:yes\n"
     ]
    },
    {
     "data": {
      "image/png": "[encoded data removed]",
      "text/plain": [
       "<Figure size 432x288 with 1 Axes>"
      ]
     },
     "metadata": {
      "needs_background": "light"
     },
     "output_type": "display_data"
    }
   ],
   "source": [
    "hospital(62)"
   ]
  },
  {
   "cell_type": "code",
   "execution_count": 4,
   "metadata": {},
   "outputs": [
    {
     "name": "stdout",
     "output_type": "stream",
     "text": [
      "0.24295127870000002\n",
      "[0.2280913353, 0.251248595240998]\n",
      "decision:yes\n"
     ]
    },
    {
     "data": {
      "image/png": "[encoded data removed]",
      "text/plain": [
       "<Figure size 432x288 with 1 Axes>"
      ]
     },
     "metadata": {
      "needs_background": "light"
     },
     "output_type": "display_data"
    }
   ],
   "source": [
    "hospital(81)"
   ]
  },
  {
   "cell_type": "code",
   "execution_count": null,
   "metadata": {},
   "outputs": [],
   "source": []
  }
 ],
 "metadata": {
  "kernelspec": {
   "display_name": "Python 3",
   "language": "python",
   "name": "python3"
  },
  "language_info": {
   "codemirror_mode": {
    "name": "ipython",
    "version": 3
   },
   "file_extension": ".py",
   "mimetype": "text/x-python",
   "name": "python",
   "nbconvert_exporter": "python",
   "pygments_lexer": "ipython3",
   "version": "3.8.5"
  }
 },
 "nbformat": 4,
 "nbformat_minor": 4
}
